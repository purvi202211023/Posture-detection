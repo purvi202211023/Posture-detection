{
  "cells": [
    {
      "cell_type": "markdown",
      "metadata": {
        "id": "view-in-github",
        "colab_type": "text"
      },
      "source": [
        "<a href=\"https://colab.research.google.com/github/purvi202211023/Posture-detection/blob/main/human_posture_detection.ipynb\" target=\"_parent\"><img src=\"https://colab.research.google.com/assets/colab-badge.svg\" alt=\"Open In Colab\"/></a>"
      ]
    },
    {
      "cell_type": "markdown",
      "source": [
        "****\n",
        "Project by: Purvi Patel\n",
        "****"
      ],
      "metadata": {
        "id": "Ll5pBYLP0kgh"
      },
      "id": "Ll5pBYLP0kgh"
    },
    {
      "cell_type": "code",
      "source": [
        "from google.colab import drive\n",
        "drive.mount('/content/Mydrive')"
      ],
      "metadata": {
        "colab": {
          "base_uri": "https://localhost:8080/"
        },
        "id": "PlrvUFIijXG8",
        "outputId": "888cf7d4-b63e-4ee2-c52d-ec401d870e89"
      },
      "id": "PlrvUFIijXG8",
      "execution_count": null,
      "outputs": [
        {
          "output_type": "stream",
          "name": "stdout",
          "text": [
            "Mounted at /content/Mydrive\n"
          ]
        }
      ]
    },
    {
      "cell_type": "code",
      "execution_count": null,
      "id": "546c5937",
      "metadata": {
        "id": "546c5937",
        "outputId": "a859a1b3-1dbe-467a-e611-2d63330c9dee",
        "colab": {
          "base_uri": "https://localhost:8080/"
        }
      },
      "outputs": [
        {
          "output_type": "stream",
          "name": "stdout",
          "text": [
            "Looking in indexes: https://pypi.org/simple, https://us-python.pkg.dev/colab-wheels/public/simple/\n",
            "Requirement already satisfied: opencv-python in /usr/local/lib/python3.9/dist-packages (4.7.0.72)\n",
            "Requirement already satisfied: numpy>=1.17.3 in /usr/local/lib/python3.9/dist-packages (from opencv-python) (1.22.4)\n",
            "Looking in indexes: https://pypi.org/simple, https://us-python.pkg.dev/colab-wheels/public/simple/\n",
            "Collecting mediapipe\n",
            "  Downloading mediapipe-0.9.3.0-cp39-cp39-manylinux_2_17_x86_64.manylinux2014_x86_64.whl (33.9 MB)\n",
            "\u001b[2K     \u001b[90m━━━━━━━━━━━━━━━━━━━━━━━━━━━━━━━━━━━━━━━━\u001b[0m \u001b[32m33.9/33.9 MB\u001b[0m \u001b[31m31.3 MB/s\u001b[0m eta \u001b[36m0:00:00\u001b[0m\n",
            "\u001b[?25hRequirement already satisfied: attrs>=19.1.0 in /usr/local/lib/python3.9/dist-packages (from mediapipe) (23.1.0)\n",
            "Requirement already satisfied: protobuf<4,>=3.11 in /usr/local/lib/python3.9/dist-packages (from mediapipe) (3.20.3)\n",
            "Requirement already satisfied: matplotlib in /usr/local/lib/python3.9/dist-packages (from mediapipe) (3.7.1)\n",
            "Requirement already satisfied: opencv-contrib-python in /usr/local/lib/python3.9/dist-packages (from mediapipe) (4.7.0.72)\n",
            "Requirement already satisfied: flatbuffers>=2.0 in /usr/local/lib/python3.9/dist-packages (from mediapipe) (23.3.3)\n",
            "Requirement already satisfied: absl-py in /usr/local/lib/python3.9/dist-packages (from mediapipe) (1.4.0)\n",
            "Requirement already satisfied: numpy in /usr/local/lib/python3.9/dist-packages (from mediapipe) (1.22.4)\n",
            "Collecting sounddevice>=0.4.4\n",
            "  Downloading sounddevice-0.4.6-py3-none-any.whl (31 kB)\n",
            "Requirement already satisfied: CFFI>=1.0 in /usr/local/lib/python3.9/dist-packages (from sounddevice>=0.4.4->mediapipe) (1.15.1)\n",
            "Requirement already satisfied: packaging>=20.0 in /usr/local/lib/python3.9/dist-packages (from matplotlib->mediapipe) (23.1)\n",
            "Requirement already satisfied: cycler>=0.10 in /usr/local/lib/python3.9/dist-packages (from matplotlib->mediapipe) (0.11.0)\n",
            "Requirement already satisfied: fonttools>=4.22.0 in /usr/local/lib/python3.9/dist-packages (from matplotlib->mediapipe) (4.39.3)\n",
            "Requirement already satisfied: importlib-resources>=3.2.0 in /usr/local/lib/python3.9/dist-packages (from matplotlib->mediapipe) (5.12.0)\n",
            "Requirement already satisfied: pyparsing>=2.3.1 in /usr/local/lib/python3.9/dist-packages (from matplotlib->mediapipe) (3.0.9)\n",
            "Requirement already satisfied: pillow>=6.2.0 in /usr/local/lib/python3.9/dist-packages (from matplotlib->mediapipe) (8.4.0)\n",
            "Requirement already satisfied: kiwisolver>=1.0.1 in /usr/local/lib/python3.9/dist-packages (from matplotlib->mediapipe) (1.4.4)\n",
            "Requirement already satisfied: contourpy>=1.0.1 in /usr/local/lib/python3.9/dist-packages (from matplotlib->mediapipe) (1.0.7)\n",
            "Requirement already satisfied: python-dateutil>=2.7 in /usr/local/lib/python3.9/dist-packages (from matplotlib->mediapipe) (2.8.2)\n",
            "Requirement already satisfied: pycparser in /usr/local/lib/python3.9/dist-packages (from CFFI>=1.0->sounddevice>=0.4.4->mediapipe) (2.21)\n",
            "Requirement already satisfied: zipp>=3.1.0 in /usr/local/lib/python3.9/dist-packages (from importlib-resources>=3.2.0->matplotlib->mediapipe) (3.15.0)\n",
            "Requirement already satisfied: six>=1.5 in /usr/local/lib/python3.9/dist-packages (from python-dateutil>=2.7->matplotlib->mediapipe) (1.16.0)\n",
            "Installing collected packages: sounddevice, mediapipe\n",
            "Successfully installed mediapipe-0.9.3.0 sounddevice-0.4.6\n",
            "/content/Mydrive/MyDrive/AML/inputs/input2.mp4: Scheme missing.\n"
          ]
        }
      ],
      "source": [
        "if 'google.colab' in str(get_ipython()):\n",
        "    !pip install opencv-python\n",
        "    !pip install mediapipe\n",
        "    !wget /content/Mydrive/MyDrive/AML/inputs/input2.mp4\n",
        "else:\n",
        "    pass"
      ]
    },
    {
      "cell_type": "markdown",
      "id": "43e5ebdc",
      "metadata": {
        "id": "43e5ebdc"
      },
      "source": [
        "## Import Libraries"
      ]
    },
    {
      "cell_type": "code",
      "execution_count": null,
      "id": "45c4ca55",
      "metadata": {
        "id": "45c4ca55"
      },
      "outputs": [],
      "source": [
        "import cv2\n",
        "import time\n",
        "import math as m\n",
        "import mediapipe as mp"
      ]
    },
    {
      "cell_type": "code",
      "execution_count": null,
      "id": "882e9fbe",
      "metadata": {
        "id": "882e9fbe"
      },
      "outputs": [],
      "source": [
        "# Initilize medipipe selfie segmentation class.\n",
        "mp_pose = mp.solutions.pose\n",
        "mp_holistic = mp.solutions.holistic"
      ]
    },
    {
      "cell_type": "markdown",
      "id": "0773cf81",
      "metadata": {
        "id": "0773cf81"
      },
      "source": [
        "## Function to calculate offset distance\n"
      ]
    },
    {
      "cell_type": "code",
      "execution_count": null,
      "id": "ceb4ca55",
      "metadata": {
        "id": "ceb4ca55"
      },
      "outputs": [],
      "source": [
        "def findDistance(x1, y1, x2, y2):\n",
        "    dist = m.sqrt((x2-x1)**2+(y2-y1)**2)\n",
        "    return dist"
      ]
    },
    {
      "cell_type": "markdown",
      "id": "9634fd09",
      "metadata": {
        "id": "9634fd09"
      },
      "source": [
        "## Function to calculate angle subtended by the line of interest to y-axis"
      ]
    },
    {
      "cell_type": "code",
      "execution_count": null,
      "id": "4492e989",
      "metadata": {
        "id": "4492e989"
      },
      "outputs": [],
      "source": [
        "# Calculate angle.\n",
        "def findAngle(x1, y1, x2, y2):\n",
        "    theta = m.acos((y2 -y1)*(-y1) / (m.sqrt((x2 - x1)**2 + (y2 - y1)**2) * y1))\n",
        "    degree = int(180/m.pi)*theta\n",
        "    return degree"
      ]
    },
    {
      "cell_type": "markdown",
      "id": "71f81cc7",
      "metadata": {
        "id": "71f81cc7"
      },
      "source": [
        "## Constants and Initializations"
      ]
    },
    {
      "cell_type": "code",
      "execution_count": null,
      "id": "cb810117",
      "metadata": {
        "id": "cb810117"
      },
      "outputs": [],
      "source": [
        "# Initilize frame counters.\n",
        "good_frames = 0\n",
        "bad_frames = 0\n",
        "\n",
        "# Font type.\n",
        "font = cv2.FONT_HERSHEY_SIMPLEX\n",
        "\n",
        "# Colors.\n",
        "blue = (255, 127, 0)\n",
        "red = (50, 50, 255)\n",
        "green = (127, 255, 0)\n",
        "dark_blue = (127, 20, 0)\n",
        "light_green = (127, 233, 100)\n",
        "yellow = (0, 255, 255)\n",
        "pink = (255, 0, 255)"
      ]
    },
    {
      "cell_type": "code",
      "execution_count": null,
      "id": "cb0eb7cb",
      "metadata": {
        "id": "cb0eb7cb"
      },
      "outputs": [],
      "source": [
        "# Initialize mediapipe pose class.\n",
        "mp_pose = mp.solutions.pose\n",
        "pose = mp_pose.Pose()\n",
        "\n",
        "# Initialize video capture object.\n",
        "file_name = '/content/Mydrive/MyDrive/AML/inputs/input2.mp4'\n",
        "cap = cv2.VideoCapture(file_name)\n",
        "\n",
        "# Meta.\n",
        "fps = int(cap.get(cv2.CAP_PROP_FPS))\n",
        "width = int(cap.get(cv2.CAP_PROP_FRAME_WIDTH))\n",
        "height = int(cap.get(cv2.CAP_PROP_FRAME_HEIGHT))\n",
        "frame_size = (width, height)\n",
        "fourcc = cv2.VideoWriter_fourcc(*'mp4v')\n",
        "\n",
        "# Initialize video writer.\n",
        "video_output = cv2.VideoWriter('output.mp4', fourcc, fps, frame_size)"
      ]
    },
    {
      "cell_type": "markdown",
      "id": "bb920c58",
      "metadata": {
        "id": "bb920c58"
      },
      "source": [
        "## Processing"
      ]
    },
    {
      "cell_type": "code",
      "execution_count": null,
      "id": "dcfa56b1",
      "metadata": {
        "id": "dcfa56b1",
        "outputId": "c569e557-ec5d-4a0b-eb1d-8a62660d7520",
        "colab": {
          "base_uri": "https://localhost:8080/"
        }
      },
      "outputs": [
        {
          "output_type": "stream",
          "name": "stdout",
          "text": [
            "Processing..\n",
            "Finished.\n"
          ]
        }
      ],
      "source": [
        "print('Processing..')\n",
        "while cap.isOpened():\n",
        "    # Capture frames.\n",
        "    success, image = cap.read()\n",
        "    if not success:\n",
        "        print(\"Frames\")\n",
        "        break\n",
        "    # Get fps.\n",
        "    fps = cap.get(cv2.CAP_PROP_FPS)\n",
        "    # Get height and width.\n",
        "    h, w = image.shape[:2]\n",
        "\n",
        "    # Convert the BGR image to RGB.\n",
        "    image = cv2.cvtColor(image, cv2.COLOR_BGR2RGB)\n",
        "\n",
        "    # Process the image.\n",
        "    keypoints = pose.process(image)\n",
        "\n",
        "    # Convert the image back to BGR.\n",
        "    image = cv2.cvtColor(image, cv2.COLOR_RGB2BGR)\n",
        "\n",
        "    # Use lm and lmPose as representative of the following methods.\n",
        "    lm = keypoints.pose_landmarks\n",
        "    lmPose = mp_pose.PoseLandmark\n",
        "\n",
        "    # Acquire the landmark coordinates.\n",
        "    # Once aligned properly, left or right should not be a concern.\n",
        "    # Left shoulder.\n",
        "    l_shldr_x = int(lm.landmark[lmPose.LEFT_SHOULDER].x * w)\n",
        "    l_shldr_y = int(lm.landmark[lmPose.LEFT_SHOULDER].y * h)\n",
        "    # Right shoulder\n",
        "    r_shldr_x = int(lm.landmark[lmPose.RIGHT_SHOULDER].x * w)\n",
        "    r_shldr_y = int(lm.landmark[lmPose.RIGHT_SHOULDER].y * h)\n",
        "    # Left ear.\n",
        "    l_ear_x = int(lm.landmark[lmPose.LEFT_EAR].x * w)\n",
        "    l_ear_y = int(lm.landmark[lmPose.LEFT_EAR].y * h)\n",
        "    # Left hip.\n",
        "    l_hip_x = int(lm.landmark[lmPose.LEFT_HIP].x * w)\n",
        "    l_hip_y = int(lm.landmark[lmPose.LEFT_HIP].y * h)\n",
        "\n",
        "    # Calculate distance between left shoulder and right shoulder points.\n",
        "    offset = findDistance(l_shldr_x, l_shldr_y, r_shldr_x, r_shldr_y)\n",
        "\n",
        "    # Assist to align the camera to point at the side view of the person.\n",
        "    # Offset threshold 30 is based on results obtained from analysis over 100 samples.\n",
        "    if offset < 100:\n",
        "        cv2.putText(image, str(int(offset)) + ' Aligned', (w - 150, 30), font, 0.9, green, 2)\n",
        "    else:\n",
        "        cv2.putText(image, str(int(offset)) + ' Not Aligned', (w - 150, 30), font, 0.9, red, 2)\n",
        "\n",
        "    # Calculate angles.\n",
        "    neck_inclination = findAngle(l_shldr_x, l_shldr_y, l_ear_x, l_ear_y)\n",
        "    torso_inclination = findAngle(l_hip_x, l_hip_y, l_shldr_x, l_shldr_y)\n",
        "\n",
        "    # Draw landmarks.\n",
        "    cv2.circle(image, (l_shldr_x, l_shldr_y), 7, yellow, -1)\n",
        "    cv2.circle(image, (l_ear_x, l_ear_y), 7, yellow, -1)\n",
        "\n",
        "    # Let's take y - coordinate of P3 100px above x1,  for display elegance.\n",
        "    # Although we are taking y = 0 while calculating angle between P1,P2,P3.\n",
        "    cv2.circle(image, (l_shldr_x, l_shldr_y - 100), 7, yellow, -1)\n",
        "    cv2.circle(image, (r_shldr_x, r_shldr_y), 7, pink, -1)\n",
        "    cv2.circle(image, (l_hip_x, l_hip_y), 7, yellow, -1)\n",
        "\n",
        "    # Similarly, here we are taking y - coordinate 100px above x1. Note that\n",
        "    # you can take any value for y, not necessarily 100 or 200 pixels.\n",
        "    cv2.circle(image, (l_hip_x, l_hip_y - 100), 7, yellow, -1)\n",
        "\n",
        "    # Put text, Posture and angle inclination.\n",
        "    # Text string for display.\n",
        "    angle_text_string = 'Neck : ' + str(int(neck_inclination)) + '  Torso : ' + str(int(torso_inclination))\n",
        "\n",
        "    # Determine whether good posture or bad posture.\n",
        "    # The threshold angles have been set based on intuition.\n",
        "    if neck_inclination < 40 and torso_inclination < 10:\n",
        "        bad_frames = 0\n",
        "        good_frames += 1\n",
        "\n",
        "        cv2.putText(image, angle_text_string, (10, 30), font, 0.9, light_green, 2)\n",
        "        cv2.putText(image, str(int(neck_inclination)), (l_shldr_x + 10, l_shldr_y), font, 0.9, light_green, 2)\n",
        "        cv2.putText(image, str(int(torso_inclination)), (l_hip_x + 10, l_hip_y), font, 0.9, light_green, 2)\n",
        "\n",
        "        # Join landmarks.\n",
        "        cv2.line(image, (l_shldr_x, l_shldr_y), (l_ear_x, l_ear_y), green, 4)\n",
        "        cv2.line(image, (l_shldr_x, l_shldr_y), (l_shldr_x, l_shldr_y - 100), green, 4)\n",
        "        cv2.line(image, (l_hip_x, l_hip_y), (l_shldr_x, l_shldr_y), green, 4)\n",
        "        cv2.line(image, (l_hip_x, l_hip_y), (l_hip_x, l_hip_y - 100), green, 4)\n",
        "\n",
        "    else:\n",
        "        good_frames = 0\n",
        "        bad_frames += 1\n",
        "\n",
        "        cv2.putText(image, angle_text_string, (10, 30), font, 0.9, red, 2)\n",
        "        cv2.putText(image, str(int(neck_inclination)), (l_shldr_x + 10, l_shldr_y), font, 0.9, red, 2)\n",
        "        cv2.putText(image, str(int(torso_inclination)), (l_hip_x + 10, l_hip_y), font, 0.9, red, 2)\n",
        "\n",
        "        # Join landmarks.\n",
        "        cv2.line(image, (l_shldr_x, l_shldr_y), (l_ear_x, l_ear_y), red, 4)\n",
        "        cv2.line(image, (l_shldr_x, l_shldr_y), (l_shldr_x, l_shldr_y - 100), red, 4)\n",
        "        cv2.line(image, (l_hip_x, l_hip_y), (l_shldr_x, l_shldr_y), red, 4)\n",
        "        cv2.line(image, (l_hip_x, l_hip_y), (l_hip_x, l_hip_y - 100), red, 4)\n",
        "\n",
        "    # Calculate the time of remaining in a particular posture.\n",
        "    good_time = (1 / fps) * good_frames\n",
        "    bad_time =  (1 / fps) * bad_frames\n",
        "\n",
        "    # Pose time.\n",
        "    if good_time > 0:\n",
        "        time_string_good = 'Good Posture Time : ' + str(round(good_time, 1)) + 's'\n",
        "        cv2.putText(image, time_string_good, (10, h - 20), font, 0.9, green, 2)\n",
        "    else:\n",
        "        time_string_bad = 'Bad Posture Time : ' + str(round(bad_time, 1)) + 's'\n",
        "        cv2.putText(image, time_string_bad, (10, h - 20), font, 0.9, red, 2)\n",
        "\n",
        "    # If you stay in bad posture for more than 3 minutes (180s) send an alert.\n",
        "    if bad_time > 180:\n",
        "        sendWarning()\n",
        "    # Write frames.\n",
        "    video_output.write(image)\n",
        "print('Finished.')\n",
        "cap.release()\n",
        "video_output.release()"
      ]
    }
  ],
  "metadata": {
    "kernelspec": {
      "display_name": "Python 3",
      "language": "python",
      "name": "python3"
    },
    "language_info": {
      "codemirror_mode": {
        "name": "ipython",
        "version": 3
      },
      "file_extension": ".py",
      "mimetype": "text/x-python",
      "name": "python",
      "nbconvert_exporter": "python",
      "pygments_lexer": "ipython3",
      "version": "3.8.12"
    },
    "colab": {
      "provenance": [],
      "include_colab_link": true
    }
  },
  "nbformat": 4,
  "nbformat_minor": 5
}